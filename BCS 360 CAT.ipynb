{
 "cells": [
  {
   "cell_type": "markdown",
   "metadata": {},
   "source": [
    "# RegNo = COM/B/01-00077/2018\n",
    "BCS 360\n",
    "CAT"
   ]
  },
  {
   "cell_type": "code",
   "execution_count": 1,
   "metadata": {},
   "outputs": [
    {
     "name": "stdout",
     "output_type": "stream",
     "text": [
      "n *** 15\n"
     ]
    }
   ],
   "source": [
    "n = 12 * 2 - (4 * 7) // 9 - 6 % 2 ** 3\n",
    "print(\"n\",n, sep = \" *** \")"
   ]
  },
  {
   "cell_type": "code",
   "execution_count": 2,
   "metadata": {},
   "outputs": [],
   "source": [
    "# i = R(5((year 􀀀 1); 4) + 4((year 􀀀 1); 100) + 6((year 􀀀 1); 400); 7)\n",
    "daysPerMonth = [31, 28, 31, 30, 31, 30, 31, 31, 30, 31, 30, 31]\n",
    "# my week starts on a sunday and ends on a  saturday\n",
    "days = ['Sunday','Monday', 'Tuesday', 'Wednesday', 'Thursday', 'Friday','Saturday']\n",
    "months = [\"January\", \"February\", \"March\", \"April\", \"May\", \"June\", \"July\", \"August\",\n",
    "\"September\", \"October\", \"November\", \"December\"]"
   ]
  },
  {
   "cell_type": "code",
   "execution_count": 3,
   "metadata": {},
   "outputs": [],
   "source": [
    "# (a) Write a function firstJan to recieve year and return the index on which first of Jan falls\n",
    "def firstJan(year):\n",
    "    day = (4 * ((year - 1) % 100))\n",
    "    day = day + (6 * ((year - 1) % 400)) \n",
    "    day = day + (5 * ((year - 1) % 4)) + 1\n",
    "    day = (day % 7)\n",
    "    return day"
   ]
  },
  {
   "cell_type": "code",
   "execution_count": 4,
   "metadata": {},
   "outputs": [
    {
     "name": "stdout",
     "output_type": "stream",
     "text": [
      "Friday\n"
     ]
    }
   ],
   "source": [
    "# checking the first of Jan\n",
    "inde =firstJan(2021)\n",
    "print(days[inde])"
   ]
  },
  {
   "cell_type": "code",
   "execution_count": 5,
   "metadata": {},
   "outputs": [],
   "source": [
    "# (b) Write a function isLeap to receives a year and change feb days to 29 if is a leap year\n",
    "def isLeap(year):\n",
    "    if (year % 4 == 0):\n",
    "        daysPerMonth[1] = 29"
   ]
  },
  {
   "cell_type": "code",
   "execution_count": 6,
   "metadata": {},
   "outputs": [],
   "source": [
    "# (c) Write a function birthDays to receives year, month and day, then displays the day on which\n",
    "# your birthday falls.\n",
    "def birthDays(year,month,day):\n",
    "    \n",
    "    indexJan = firstJan(year)\n",
    "    isLeap(year)\n",
    "    tot_days = 0\n",
    "    index2 = 0\n",
    "    count = 0\n",
    "    \n",
    "    while count < (month - 1):\n",
    "        tot_days = tot_days + daysPerMonth[count]\n",
    "        count = count + 1\n",
    "        \n",
    "    tot_days = indexJan + tot_days + day\n",
    "    index2 = (tot_days % 7) - 1 \n",
    "    \n",
    "    print(f\"\\nYour Birthday in {year} is on a {days[index2]} {day}/{month}/{year}\\n\")"
   ]
  },
  {
   "cell_type": "code",
   "execution_count": 7,
   "metadata": {},
   "outputs": [],
   "source": [
    "# (d) Write a function to receives month and year you were born, and displays the calendar for\n",
    "# that month in a 6 by 7 grid.\n",
    "def display(year,month):\n",
    "    print(f\"sun\\tmon\\ttue\\twed\\tthur\\tfri\\tsat\\n\")\n",
    "    \n",
    "    firstDay = firstJan(year)\n",
    "    isLeap(year)\n",
    "    count = 0\n",
    "    date = firstDay\n",
    "    total = 0\n",
    "\n",
    "    while count < (month - 1):\n",
    "        total = (total + daysPerMonth[count]) \n",
    "        count = count + 1\n",
    "    date = (date + total) % 7\n",
    "    date = 1 - date\n",
    "            \n",
    "    for x in range(0,6):\n",
    "        for y in range(0,7):\n",
    "             \n",
    "            if date <= 0:\n",
    "                print(\"\\t\",end='')\n",
    "            elif date > daysPerMonth[month-1]:\n",
    "                break\n",
    "            else:\n",
    "                print(date,end=\"\\t\")\n",
    "            \n",
    "            date = date + 1\n",
    "            \n",
    "        print()\n",
    "\n",
    "                "
   ]
  },
  {
   "cell_type": "code",
   "execution_count": 8,
   "metadata": {},
   "outputs": [],
   "source": [
    "def main():\n",
    "    day = int(input(\"Enter Day\"))\n",
    "    month = int(input(\"Enter Month\"))\n",
    "    year = int(input(\"Enter Year\"))\n",
    "    \n",
    "    firstJan(year)\n",
    "    birthDays(year,month,day)\n",
    "    display(year,month)"
   ]
  },
  {
   "cell_type": "code",
   "execution_count": 9,
   "metadata": {},
   "outputs": [
    {
     "name": "stdout",
     "output_type": "stream",
     "text": [
      "Enter Day14\n",
      "Enter Month11\n",
      "Enter Year2021\n",
      "\n",
      "Your Birthday in 2021 is on a Sunday 14/11/2021\n",
      "\n",
      "sun\tmon\ttue\twed\tthur\tfri\tsat\n",
      "\n",
      "\t1\t2\t3\t4\t5\t6\t\n",
      "7\t8\t9\t10\t11\t12\t13\t\n",
      "14\t15\t16\t17\t18\t19\t20\t\n",
      "21\t22\t23\t24\t25\t26\t27\t\n",
      "28\t29\t30\t\n",
      "\n"
     ]
    }
   ],
   "source": [
    "main()"
   ]
  }
 ],
 "metadata": {
  "kernelspec": {
   "display_name": "Python 3",
   "language": "python",
   "name": "python3"
  },
  "language_info": {
   "codemirror_mode": {
    "name": "ipython",
    "version": 3
   },
   "file_extension": ".py",
   "mimetype": "text/x-python",
   "name": "python",
   "nbconvert_exporter": "python",
   "pygments_lexer": "ipython3",
   "version": "3.8.3"
  }
 },
 "nbformat": 4,
 "nbformat_minor": 4
}
